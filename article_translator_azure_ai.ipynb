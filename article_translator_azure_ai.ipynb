{
  "nbformat": 4,
  "nbformat_minor": 0,
  "metadata": {
    "colab": {
      "provenance": [],
      "authorship_tag": "ABX9TyMDy/RQAu9OGeYEBm26WfPB"
    },
    "kernelspec": {
      "name": "python3",
      "display_name": "Python 3"
    },
    "language_info": {
      "name": "python"
    }
  },
  "cells": [
    {
      "cell_type": "code",
      "execution_count": null,
      "metadata": {
        "colab": {
          "base_uri": "https://localhost:8080/"
        },
        "id": "50GjUkTQduIR",
        "outputId": "b1ba206a-97f4-40f6-d72f-5874cd28419d"
      },
      "outputs": [
        {
          "output_type": "stream",
          "name": "stdout",
          "text": [
            "Requirement already satisfied: requests in /usr/local/lib/python3.10/dist-packages (2.32.3)\n",
            "Requirement already satisfied: beautifulsoup4 in /usr/local/lib/python3.10/dist-packages (4.12.3)\n",
            "Requirement already satisfied: openai in /usr/local/lib/python3.10/dist-packages (1.54.4)\n",
            "Requirement already satisfied: langchain-openai in /usr/local/lib/python3.10/dist-packages (0.2.9)\n",
            "Requirement already satisfied: charset-normalizer<4,>=2 in /usr/local/lib/python3.10/dist-packages (from requests) (3.4.0)\n",
            "Requirement already satisfied: idna<4,>=2.5 in /usr/local/lib/python3.10/dist-packages (from requests) (3.10)\n",
            "Requirement already satisfied: urllib3<3,>=1.21.1 in /usr/local/lib/python3.10/dist-packages (from requests) (2.2.3)\n",
            "Requirement already satisfied: certifi>=2017.4.17 in /usr/local/lib/python3.10/dist-packages (from requests) (2024.8.30)\n",
            "Requirement already satisfied: soupsieve>1.2 in /usr/local/lib/python3.10/dist-packages (from beautifulsoup4) (2.6)\n",
            "Requirement already satisfied: anyio<5,>=3.5.0 in /usr/local/lib/python3.10/dist-packages (from openai) (3.7.1)\n",
            "Requirement already satisfied: distro<2,>=1.7.0 in /usr/local/lib/python3.10/dist-packages (from openai) (1.9.0)\n",
            "Requirement already satisfied: httpx<1,>=0.23.0 in /usr/local/lib/python3.10/dist-packages (from openai) (0.27.2)\n",
            "Requirement already satisfied: jiter<1,>=0.4.0 in /usr/local/lib/python3.10/dist-packages (from openai) (0.7.1)\n",
            "Requirement already satisfied: pydantic<3,>=1.9.0 in /usr/local/lib/python3.10/dist-packages (from openai) (2.9.2)\n",
            "Requirement already satisfied: sniffio in /usr/local/lib/python3.10/dist-packages (from openai) (1.3.1)\n",
            "Requirement already satisfied: tqdm>4 in /usr/local/lib/python3.10/dist-packages (from openai) (4.66.6)\n",
            "Requirement already satisfied: typing-extensions<5,>=4.11 in /usr/local/lib/python3.10/dist-packages (from openai) (4.12.2)\n",
            "Requirement already satisfied: langchain-core<0.4.0,>=0.3.17 in /usr/local/lib/python3.10/dist-packages (from langchain-openai) (0.3.19)\n",
            "Requirement already satisfied: tiktoken<1,>=0.7 in /usr/local/lib/python3.10/dist-packages (from langchain-openai) (0.8.0)\n",
            "Requirement already satisfied: exceptiongroup in /usr/local/lib/python3.10/dist-packages (from anyio<5,>=3.5.0->openai) (1.2.2)\n",
            "Requirement already satisfied: httpcore==1.* in /usr/local/lib/python3.10/dist-packages (from httpx<1,>=0.23.0->openai) (1.0.7)\n",
            "Requirement already satisfied: h11<0.15,>=0.13 in /usr/local/lib/python3.10/dist-packages (from httpcore==1.*->httpx<1,>=0.23.0->openai) (0.14.0)\n",
            "Requirement already satisfied: PyYAML>=5.3 in /usr/local/lib/python3.10/dist-packages (from langchain-core<0.4.0,>=0.3.17->langchain-openai) (6.0.2)\n",
            "Requirement already satisfied: jsonpatch<2.0,>=1.33 in /usr/local/lib/python3.10/dist-packages (from langchain-core<0.4.0,>=0.3.17->langchain-openai) (1.33)\n",
            "Requirement already satisfied: langsmith<0.2.0,>=0.1.125 in /usr/local/lib/python3.10/dist-packages (from langchain-core<0.4.0,>=0.3.17->langchain-openai) (0.1.143)\n",
            "Requirement already satisfied: packaging<25,>=23.2 in /usr/local/lib/python3.10/dist-packages (from langchain-core<0.4.0,>=0.3.17->langchain-openai) (24.2)\n",
            "Requirement already satisfied: tenacity!=8.4.0,<10.0.0,>=8.1.0 in /usr/local/lib/python3.10/dist-packages (from langchain-core<0.4.0,>=0.3.17->langchain-openai) (9.0.0)\n",
            "Requirement already satisfied: annotated-types>=0.6.0 in /usr/local/lib/python3.10/dist-packages (from pydantic<3,>=1.9.0->openai) (0.7.0)\n",
            "Requirement already satisfied: pydantic-core==2.23.4 in /usr/local/lib/python3.10/dist-packages (from pydantic<3,>=1.9.0->openai) (2.23.4)\n",
            "Requirement already satisfied: regex>=2022.1.18 in /usr/local/lib/python3.10/dist-packages (from tiktoken<1,>=0.7->langchain-openai) (2024.9.11)\n",
            "Requirement already satisfied: jsonpointer>=1.9 in /usr/local/lib/python3.10/dist-packages (from jsonpatch<2.0,>=1.33->langchain-core<0.4.0,>=0.3.17->langchain-openai) (3.0.0)\n",
            "Requirement already satisfied: orjson<4.0.0,>=3.9.14 in /usr/local/lib/python3.10/dist-packages (from langsmith<0.2.0,>=0.1.125->langchain-core<0.4.0,>=0.3.17->langchain-openai) (3.10.11)\n",
            "Requirement already satisfied: requests-toolbelt<2.0.0,>=1.0.0 in /usr/local/lib/python3.10/dist-packages (from langsmith<0.2.0,>=0.1.125->langchain-core<0.4.0,>=0.3.17->langchain-openai) (1.0.0)\n"
          ]
        }
      ],
      "source": [
        "!pip install requests beautifulsoup4 openai langchain-openai"
      ]
    },
    {
      "cell_type": "code",
      "source": [
        "import requests\n",
        "from bs4 import BeautifulSoup\n",
        "from posixpath import sep\n",
        "from langchain_openai.chat_models.azure import AzureChatOpenAI"
      ],
      "metadata": {
        "id": "h_MOEurvefDp"
      },
      "execution_count": null,
      "outputs": []
    },
    {
      "cell_type": "code",
      "source": [
        "def extract_text_from_url(url):\n",
        "    response = requests.get(url)\n",
        "\n",
        "    if response.status_code == 200:\n",
        "      soup = BeautifulSoup(response.text, 'html.parser')\n",
        "      for script in soup([\"script\", \"style\"]):\n",
        "        script.decompose()\n",
        "\n",
        "      text = soup.get_text(separator='')\n",
        "      #clean text\n",
        "      lines = (line.strip() for line in text.splitlines())\n",
        "      chunks = (phrase.strip() for line in lines for phrase in line.split(\"  \"))\n",
        "      clean_text = '\\n'.join(chunk for chunk in chunks if chunk)\n",
        "      return clean_text\n",
        "    else:\n",
        "        print(f\"Failed to fetch URL. Status code: {response.status_code}\")\n",
        "        return None\n",
        "\n",
        "    return text"
      ],
      "metadata": {
        "id": "-PluJvxgjiay"
      },
      "execution_count": null,
      "outputs": []
    },
    {
      "cell_type": "code",
      "source": [
        "client = AzureChatOpenAI(\n",
        "    azure_endpoint=\"https://<>.openai.azure.com/\",\n",
        "    api_key=\"\",\n",
        "    api_version=\"2024-02-15-preview\",\n",
        "    azure_deployment=\"gpt-4o-mini\",\n",
        "    max_retries=0\n",
        ")\n",
        "\n",
        "def translate_article(text, lang):\n",
        "  messages = [\n",
        "      ('system', \"You act like a text translator\"),\n",
        "      ('user', f\"Translate the text {text} to {lang} and return a markdown response\")\n",
        "  ]\n",
        "  response = client.invoke(messages)\n",
        "  return response.content"
      ],
      "metadata": {
        "id": "xmuaw_zgmRia"
      },
      "execution_count": null,
      "outputs": []
    },
    {
      "cell_type": "code",
      "source": [
        "text = extract_text_from_url('https://www.geeksforgeeks.org/how-to-upload-project-on-github-from-google-colab/')\n",
        "print (translate_article(text, 'pt-BR'))"
      ],
      "metadata": {
        "colab": {
          "base_uri": "https://localhost:8080/"
        },
        "id": "e89Uqtxwpnl7",
        "outputId": "9940626e-d295-4c64-9736-f8dd785f3ff8"
      },
      "execution_count": null,
      "outputs": [
        {
          "output_type": "stream",
          "name": "stdout",
          "text": [
            "# Como Fazer Upload de Projetos no GitHub a partir do Google Colab? - GeeksforGeeks\n",
            "\n",
            "Última Atualização: 15 de janeiro de 2021\n",
            "\n",
            "Se você deseja criar um modelo de aprendizado de máquina, mas não possui um computador que suporte a carga de trabalho, o Google Colab é uma plataforma de código aberto para você. Mesmo que você tenha uma GPU ou um bom computador, criar um ambiente local com Anaconda e instalar pacotes, além de resolver problemas de instalação, pode ser um incômodo. O Colaboratory é um ambiente gratuito de Jupyter Notebook fornecido pelo Google, onde você pode usar GPUs e TPUs gratuitas, o que resolve todos esses problemas.\n",
            "\n",
            "Para saber mais sobre o Google Colab, visite Como usar o Google Colab.\n",
            "\n",
            "Você pode usar o Google Colab para desenvolver projetos de aprendizado de máquina e facilmente enviá-los para o GitHub seguindo os passos abaixo:\n",
            "\n",
            "1. Abra o Google Colab a partir de qualquer navegador, ou seja, visite o site deles.\n",
            "2. Abra um Notebook existente ou crie um novo Notebook clicando em NOVO NOTEBOOK.\n",
            "3. Após desenvolver o projeto, clique em Arquivo no canto superior esquerdo e depois navegue até Salvar uma Cópia no GitHub e clique nele.\n",
            "4. Ao clicar, um pop-up aparecerá solicitando que você insira suas credenciais do GitHub, e então um novo pop-up do Colab aparecerá, semelhante à imagem abaixo.\n",
            "5. Agora, você precisa selecionar seu repositório, branch e verificar outros detalhes. Em seguida, clique em OK.\n",
            "6. Depois disso, seu projeto será enviado para o repositório do GitHub especificado e, ao concluir, seu projeto do Colab será aberto no repositório do GitHub em uma nova aba.\n",
            "\n",
            "Dessa forma, você pode fazer upload de um projeto desenvolvido no Colab para o seu repositório do GitHub.\n"
          ]
        }
      ]
    }
  ]
}